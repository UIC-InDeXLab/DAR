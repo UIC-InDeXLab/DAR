{
 "cells": [
  {
   "cell_type": "code",
   "execution_count": 1,
   "id": "3c4ee54d",
   "metadata": {},
   "outputs": [],
   "source": [
    "import sys\n",
    "\n",
    "sys.path.append(\"..\")\n",
    "\n",
    "import pandas as pd\n",
    "import matplotlib.pyplot as plt\n",
    "import random\n",
    "import numpy as np\n",
    "import time\n",
    "\n",
    "from methods.kth.epssample import *\n",
    "from methods.kth.fagin import *\n",
    "from methods.kth.threshold import *\n",
    "from methods.utils import *\n",
    "from methods.range_search.hierarchy import *\n",
    "from ranges.stripe_range import StripeRange"
   ]
  },
  {
   "cell_type": "markdown",
   "id": "71923459",
   "metadata": {},
   "source": [
    "Test"
   ]
  },
  {
   "cell_type": "code",
   "execution_count": 2,
   "id": "be3b7653",
   "metadata": {},
   "outputs": [],
   "source": [
    "dim = 2\n",
    "k = 5\n",
    "points = np.random.zipf(1.5, size=(20, dim))\n",
    "weights = np.random.rand(dim)\n",
    "# normalize wieghts\n",
    "weights /= np.linalg.norm(weights)"
   ]
  },
  {
   "cell_type": "code",
   "execution_count": 3,
   "id": "0b903c63",
   "metadata": {},
   "outputs": [
    {
     "data": {
      "text/plain": [
       "(array([ 2, 39]), np.float64(37.35638983920941))"
      ]
     },
     "execution_count": 3,
     "metadata": {},
     "output_type": "execute_result"
    }
   ],
   "source": [
    "fagins_algorithm(points, weights, k=k)"
   ]
  },
  {
   "cell_type": "code",
   "execution_count": 4,
   "id": "8a0d5d22",
   "metadata": {},
   "outputs": [
    {
     "data": {
      "text/plain": [
       "(array([ 2, 39]), np.float64(37.356389839209406))"
      ]
     },
     "execution_count": 4,
     "metadata": {},
     "output_type": "execute_result"
    }
   ],
   "source": [
    "find_kth_exhaustive(points, weights, k=k)"
   ]
  },
  {
   "cell_type": "code",
   "execution_count": 5,
   "id": "666183dd",
   "metadata": {},
   "outputs": [
    {
     "data": {
      "text/plain": [
       "(array([ 2, 39]), np.float64(37.35638983920941))"
      ]
     },
     "execution_count": 5,
     "metadata": {},
     "output_type": "execute_result"
    }
   ],
   "source": [
    "threshold_algorithm(points, weights, k=k)"
   ]
  },
  {
   "cell_type": "code",
   "execution_count": 6,
   "id": "debee8d6",
   "metadata": {},
   "outputs": [
    {
     "name": "stdout",
     "output_type": "stream",
     "text": [
      "L: 3\n",
      "sample_size: 13 n: 20\n",
      "3.25\n",
      "Rank low: 2, Rank high: 4 (m=13)\n"
     ]
    },
    {
     "data": {
      "text/plain": [
       "array([[  1,  31],\n",
       "       [  2,  39],\n",
       "       [  4,  33],\n",
       "       [141,  24]])"
      ]
     },
     "execution_count": 6,
     "metadata": {},
     "output_type": "execute_result"
    }
   ],
   "source": [
    "def index_fn(points):\n",
    "    ind = HierarchicalIndex(points, decay=4)\n",
    "    ind.build_index()\n",
    "    ind.find_coverage()\n",
    "    ind.find_neighbor_stats()\n",
    "    return ind\n",
    "\n",
    "\n",
    "prep = preprocess(points, index_fn=index_fn, eps=1 / 32)\n",
    "\n",
    "points[find_kth(*prep, weights=weights, k=k)]"
   ]
  },
  {
   "cell_type": "code",
   "execution_count": 9,
   "id": "7b71978a",
   "metadata": {},
   "outputs": [
    {
     "name": "stdout",
     "output_type": "stream",
     "text": [
      "3.25\n",
      "Rank low: 2, Rank high: 4 (m=13)\n"
     ]
    },
    {
     "data": {
      "text/plain": [
       "True"
      ]
     },
     "execution_count": 9,
     "metadata": {},
     "output_type": "execute_result"
    }
   ],
   "source": [
    "gt = find_kth_exhaustive(points, weights, k=k)\n",
    "\n",
    "res = points[find_kth(*prep, weights=weights, k=k)]\n",
    "gt[0] in res"
   ]
  }
 ],
 "metadata": {
  "kernelspec": {
   "display_name": "venv",
   "language": "python",
   "name": "python3"
  },
  "language_info": {
   "codemirror_mode": {
    "name": "ipython",
    "version": 3
   },
   "file_extension": ".py",
   "mimetype": "text/x-python",
   "name": "python",
   "nbconvert_exporter": "python",
   "pygments_lexer": "ipython3",
   "version": "3.12.7"
  }
 },
 "nbformat": 4,
 "nbformat_minor": 5
}
