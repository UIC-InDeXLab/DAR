{
 "cells": [
  {
   "cell_type": "code",
   "execution_count": 1,
   "id": "1e6e0aa5",
   "metadata": {},
   "outputs": [],
   "source": [
    "import sys\n",
    "sys.path.insert(0, '..')\n",
    "\n",
    "import numpy as np\n",
    "import matplotlib.pyplot as plt\n",
    "from time import time\n",
    "\n",
    "from ranges.stripe_range import StripeRange\n",
    "from algorithms.search import *"
   ]
  },
  {
   "cell_type": "markdown",
   "id": "742175cf",
   "metadata": {},
   "source": [
    "- Example\n",
    "- Experiments"
   ]
  },
  {
   "cell_type": "markdown",
   "id": "0c54c760",
   "metadata": {},
   "source": [
    "## Example"
   ]
  },
  {
   "cell_type": "code",
   "execution_count": 2,
   "id": "810bd1cf",
   "metadata": {},
   "outputs": [],
   "source": [
    "# Config\n",
    "n = 1000\n",
    "dim = 2"
   ]
  },
  {
   "cell_type": "code",
   "execution_count": 3,
   "id": "4bb1642b",
   "metadata": {},
   "outputs": [],
   "source": [
    "# np.random.seed(0)\n",
    "points = np.random.rand(n, dim) * 1000"
   ]
  },
  {
   "cell_type": "markdown",
   "id": "fa85582b",
   "metadata": {},
   "source": [
    "Generate range"
   ]
  },
  {
   "cell_type": "code",
   "execution_count": 4,
   "id": "577ef9d8",
   "metadata": {},
   "outputs": [],
   "source": [
    "def generate_stripe_range(points, dim, k):\n",
    "    \"\"\"\n",
    "    Generate a StripeRange with exactly k points inside, choosing start and end randomly.\n",
    "\n",
    "    Args:\n",
    "        points (np.ndarray): The set of points.\n",
    "        dim (int): The dimensionality of the points.\n",
    "        k (int): The exact number of points to include in the stripe.\n",
    "\n",
    "    Returns:\n",
    "        StripeRange: The generated stripe range.\n",
    "    \"\"\"\n",
    "    # Generate a random normal vector\n",
    "    normal_vector = np.random.rand(dim)\n",
    "\n",
    "    # Project the points onto the normal vector\n",
    "    dot_products = np.dot(points, normal_vector)\n",
    "\n",
    "    # Sort the dot products\n",
    "    sorted_dots = np.sort(dot_products)\n",
    "\n",
    "    # Randomly choose a starting index for the range\n",
    "    max_start_index = len(sorted_dots) - k\n",
    "    start_index = np.random.randint(0, max_start_index + 1)\n",
    "\n",
    "    # Select the start and end based on the chosen range\n",
    "    start_dot = sorted_dots[start_index]\n",
    "    end_dot = sorted_dots[start_index + k - 1]\n",
    "\n",
    "    # Calculate start and end points for the stripe\n",
    "    start = start_dot\n",
    "    end = end_dot\n",
    "\n",
    "    # Create the StripeRange\n",
    "    stripe_range = StripeRange(normal_vector, start, end)\n",
    "\n",
    "    return stripe_range"
   ]
  },
  {
   "cell_type": "code",
   "execution_count": 5,
   "id": "75e8019f",
   "metadata": {},
   "outputs": [],
   "source": [
    "def get_output_size(points, stripe_range):\n",
    "    # Count the number of points inside the stripe\n",
    "    inside = sum(1 for point in points if stripe_range.is_in(point))\n",
    "    return inside"
   ]
  },
  {
   "cell_type": "code",
   "execution_count": 7,
   "id": "ca23c7d8",
   "metadata": {},
   "outputs": [
    {
     "name": "stdout",
     "output_type": "stream",
     "text": [
      "Number of points inside the stripe: 40/1000\n"
     ]
    }
   ],
   "source": [
    "stripe_range = generate_stripe_range(points, dim, 40)\n",
    "\n",
    "inside = 0\n",
    "for point in points:\n",
    "    if stripe_range.is_in(point):\n",
    "        inside += 1\n",
    "print(f\"Number of points inside the stripe: {inside}/{n}\")"
   ]
  },
  {
   "cell_type": "code",
   "execution_count": 8,
   "id": "92f795fe",
   "metadata": {},
   "outputs": [],
   "source": [
    "(graph, epsnet) = preprocess(points, epsnet_size=100, graph_type=\"random\", degree=100)\n",
    "# (graph, epsnet) = preprocess(points, epsnet_size=100, graph_type=\"theta\", num_directions=8)\n",
    "# (graph, epsnet) = preprocess(points, epsnet_size=100, graph_type=\"knn\", k=10)\n",
    "result = query((graph, epsnet), stripe_range)"
   ]
  },
  {
   "cell_type": "code",
   "execution_count": 9,
   "id": "ab6a2d0a",
   "metadata": {},
   "outputs": [
    {
     "data": {
      "text/plain": [
       "(40, 4)"
      ]
     },
     "execution_count": 9,
     "metadata": {},
     "output_type": "execute_result"
    }
   ],
   "source": [
    "epsnet_in_range = []\n",
    "for ind in epsnet.epsnet_indices:\n",
    "    if stripe_range.is_in(graph.points[ind]):\n",
    "        epsnet_in_range.append(graph.points[ind])\n",
    "len(result), len(epsnet_in_range)"
   ]
  },
  {
   "cell_type": "markdown",
   "id": "8e2091a7",
   "metadata": {},
   "source": [
    "## Run Experiments"
   ]
  },
  {
   "cell_type": "markdown",
   "id": "146fd321",
   "metadata": {},
   "source": [
    "### Random Graph"
   ]
  },
  {
   "cell_type": "code",
   "execution_count": null,
   "id": "4bb71a78",
   "metadata": {},
   "outputs": [],
   "source": [
    "n_values = [1000, 2000, 4000, 8000, 16000]\n",
    "dim_values = [4, 8, 16, 32]\n",
    "degree_values = [16, 32, 64]\n",
    "epsnet_size_ratios = [1 / 16, 1 / 128]\n",
    "output_sizes = [1 / 8, 1 / 128]\n",
    "\n",
    "results = []\n",
    "\n",
    "for n in n_values:\n",
    "    for dim in dim_values:\n",
    "        for degree in degree_values:\n",
    "            for epsnet_size_ratio in epsnet_size_ratios:\n",
    "                for output_size in output_sizes:\n",
    "                    print(\n",
    "                        f\"Running with n={n}, dim={dim}, degree={degree}, epsnet_size_ratio={epsnet_size_ratio}, output_size={output_size}\"\n",
    "                    )\n",
    "                    points = np.random.rand(n, dim) * 1000\n",
    "\n",
    "                    print(\"Generating stripe range...\")\n",
    "                    stripe = generate_stripe_range(points, dim, k=int(n * output_size))\n",
    "\n",
    "                    print(f\"Preprocessing [random]...\")\n",
    "                    (random_graph, random_epsnet) = preprocess(\n",
    "                        points,\n",
    "                        epsnet_size=int(n * epsnet_size_ratio),\n",
    "                        graph_type=\"random\",\n",
    "                        degree=degree,\n",
    "                    )\n",
    "                    # print(f\"Preprocessing [theta]...\")\n",
    "                    # (theta_graph, theta_epsnet) = preprocess(\n",
    "                    #     points,\n",
    "                    #     epsnet_size=int(n * epsnet_size_ratio),\n",
    "                    #     graph_type=\"theta\",\n",
    "                    #     num_directions=degree,\n",
    "                    # )\n",
    "                    print(f\"Preprocessing [knn]...\")\n",
    "                    (knn_graph, knn_epsnet) = preprocess(\n",
    "                        points,\n",
    "                        epsnet_size=int(n * epsnet_size_ratio),\n",
    "                        graph_type=\"knn\",\n",
    "                        k=degree,\n",
    "                    )\n",
    "\n",
    "                    print(\"Random graph...\")\n",
    "                    start = time()\n",
    "                    random_result = query((random_graph, random_epsnet), stripe)\n",
    "                    end = time()\n",
    "                    random_time = end - start\n",
    "\n",
    "                    # print(\"Theta graph...\")\n",
    "                    # start = time()\n",
    "                    # theta_result = query((theta_graph, theta_epsnet), stripe)\n",
    "                    # end = time()\n",
    "                    # theta_time = end - start\n",
    "\n",
    "                    print(\"KNN graph...\")\n",
    "                    start = time()\n",
    "                    knn_result = query((knn_graph, knn_epsnet), stripe)\n",
    "                    end = time()\n",
    "                    knn_time = end - start\n",
    "\n",
    "                    print(\"linear search...\")\n",
    "                    start = time()\n",
    "                    size = get_output_size(points, stripe)\n",
    "                    linear_result = [i for i in range(size)]\n",
    "                    end = time()\n",
    "                    linear_time = end - start\n",
    "\n",
    "                    random_recall = len(random_result) / size\n",
    "                    # theta_recall = len(theta_result) / size\n",
    "                    knn_recall = len(knn_result) / size\n",
    "                    linear_recall = len(linear_result) / size\n",
    "                    print(\n",
    "                        f\"recalls: random {random_recall}, knn {knn_recall}, linear {linear_recall}\"\n",
    "                    )\n",
    "\n",
    "                    results.append(\n",
    "                        {\n",
    "                            \"n\": n,\n",
    "                            \"dim\": dim,\n",
    "                            \"degree\": degree,\n",
    "                            \"epsnet_size_ratio\": epsnet_size_ratio,\n",
    "                            \"output_size\": output_size,\n",
    "                            \"random_recall\": random_recall,\n",
    "                            \"theta_recall\": None,\n",
    "                            \"knn_recall\": knn_recall,\n",
    "                            \"linear_recall\": linear_recall,\n",
    "                            \"random_time\": random_time,\n",
    "                            \"theta_time\": None,\n",
    "                            \"knn_time\": knn_time,\n",
    "                            \"linear_time\": linear_time,\n",
    "                        }\n",
    "                    )"
   ]
  },
  {
   "cell_type": "code",
   "execution_count": null,
   "id": "098d21ac",
   "metadata": {},
   "outputs": [],
   "source": [
    "import pandas as pd\n",
    "df = pd.DataFrame(results)\n",
    "df.to_csv(\"results_no_theta.csv\", index=False)"
   ]
  }
 ],
 "metadata": {
  "kernelspec": {
   "display_name": "venv",
   "language": "python",
   "name": "python3"
  },
  "language_info": {
   "codemirror_mode": {
    "name": "ipython",
    "version": 3
   },
   "file_extension": ".py",
   "mimetype": "text/x-python",
   "name": "python",
   "nbconvert_exporter": "python",
   "pygments_lexer": "ipython3",
   "version": "3.12.7"
  }
 },
 "nbformat": 4,
 "nbformat_minor": 5
}
