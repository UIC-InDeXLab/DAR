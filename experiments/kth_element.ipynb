{
 "cells": [
  {
   "cell_type": "code",
   "execution_count": 1,
   "id": "fe90ea18",
   "metadata": {},
   "outputs": [],
   "source": [
    "import sys\n",
    "\n",
    "sys.path.append(\"..\")\n",
    "\n",
    "import pandas as pd\n",
    "import matplotlib.pyplot as plt\n",
    "import random\n",
    "import numpy as np\n",
    "import time\n",
    "\n",
    "from methods.kth.epssample import *\n",
    "from methods.kth.fagin import *\n",
    "from methods.kth.threshold import *\n",
    "from methods.utils import *\n",
    "from methods.range_search.hierarchy import *\n",
    "from ranges.stripe_range import StripeRange"
   ]
  },
  {
   "cell_type": "markdown",
   "id": "76a65438",
   "metadata": {},
   "source": [
    "Utils"
   ]
  },
  {
   "cell_type": "code",
   "execution_count": 2,
   "id": "bd264a8a",
   "metadata": {},
   "outputs": [],
   "source": [
    "def index_fn(points):\n",
    "    ind = HierarchicalIndex(points, decay=4)\n",
    "    ind.build_index()\n",
    "    ind.find_coverage()\n",
    "    ind.find_neighbor_stats()\n",
    "    return ind"
   ]
  },
  {
   "cell_type": "markdown",
   "id": "b4640dcb",
   "metadata": {},
   "source": [
    "Time vs different k:"
   ]
  },
  {
   "cell_type": "code",
   "execution_count": 3,
   "id": "408c4628",
   "metadata": {},
   "outputs": [],
   "source": [
    "# ns = [10000, 50000, 100000, 200000]\n",
    "# dim = 4\n",
    "# ks = [1 / 2, 1 / 4, 1 / 8, 1 / 16, 1 / 32, 1 / 64]\n",
    "\n",
    "# eps = 1 / 32\n",
    "\n",
    "# results = {}\n",
    "\n",
    "# for n in ns:\n",
    "#     print(f\"Running for n={n} / {ns}...\")\n",
    "#     points = np.random.zipf(1.5, size=(n, dim))\n",
    "#     weights = np.random.rand(dim)\n",
    "#     weights /= np.linalg.norm(weights)\n",
    "\n",
    "#     print(\"Building index...\")\n",
    "#     prep = preprocess(points, index_fn=index_fn, eps=eps)\n",
    "\n",
    "#     for l in ks:\n",
    "#         k = int(l * n)\n",
    "#         print(f\"Running for k={k} / {ks}...\")\n",
    "#         start = time.time()\n",
    "#         for _ in range(5):\n",
    "#             res = find_kth(*prep, weights=weights, k=k)\n",
    "#         end = time.time()\n",
    "#         results.setdefault(\"our_time\", []).append((end - start) / 5)\n",
    "\n",
    "#         start = time.time()\n",
    "#         for _ in range(5):\n",
    "#             gt = find_kth_exhaustive(points, weights, k=k)\n",
    "#         end = time.time()\n",
    "#         results.setdefault(\"exhaustive_time\", []).append((end - start) / 5)\n",
    "\n",
    "#         print(\"gt\", gt)\n",
    "#         print(\"res\", res)\n",
    "#         print(points[res])\n",
    "#         if gt[0] in points[res]:\n",
    "#             results.setdefault(\"correct\", []).append(1)\n",
    "#         else:\n",
    "#             results.setdefault(\"correct\", []).append(0)\n",
    "\n",
    "#         results.setdefault(\"k\", []).append(k)\n",
    "#         results.setdefault(\"n\", []).append(n)\n",
    "#         results.setdefault(\"dim\", []).append(dim)"
   ]
  },
  {
   "cell_type": "markdown",
   "id": "a0552997",
   "metadata": {},
   "source": [
    "visualize"
   ]
  },
  {
   "cell_type": "code",
   "execution_count": null,
   "id": "7a6133fb",
   "metadata": {},
   "outputs": [
    {
     "name": "stdout",
     "output_type": "stream",
     "text": [
      "Running for n=10000 / [10000]...\n",
      "Building index...\n",
      "L: 7\n"
     ]
    }
   ],
   "source": [
    "ns = [10000]\n",
    "dim = 16\n",
    "ks = [1 / 2, 1 / 4, 1 / 8, 1 / 16, 1 / 32, 1 / 64]\n",
    "\n",
    "eps = 1 / 20\n",
    "\n",
    "results = {}\n",
    "\n",
    "for n in ns:\n",
    "    print(f\"Running for n={n} / {ns}...\")\n",
    "    points = np.random.zipf(1.5, size=(n, dim))\n",
    "    weights = np.random.rand(dim)\n",
    "    weights /= np.linalg.norm(weights)\n",
    "\n",
    "    print(\"Building index...\")\n",
    "    prep = preprocess(points, index_fn=index_fn, eps=eps)\n",
    "\n",
    "    for l in ks:\n",
    "        k = int(l * n)\n",
    "        print(f\"Running for k={k} / {ks}...\")\n",
    "        start = time.time()\n",
    "        # for _ in range(1):\n",
    "        # res = find_kth(*prep, weights=weights, k=k)\n",
    "        stripe = find_stripe(prep[1], prep[2], weights, k, prep[3])\n",
    "        end_t = time.time()\n",
    "        res = query(prep[0], stripe)\n",
    "        end = time.time()\n",
    "        results.setdefault(\"our_time_2\", []).append((end - end_t) / 5)\n",
    "        results.setdefault(\"our_time_1\", []).append((end_t - start) / 5)\n",
    "\n",
    "        start = time.time()\n",
    "        for _ in range(1):\n",
    "            gt = find_kth_exhaustive(points, weights, k=k)\n",
    "        end = time.time()\n",
    "        results.setdefault(\"exhaustive_time\", []).append((end - start) / 5)\n",
    "\n",
    "        # print(\"gt\", gt)\n",
    "        # print(\"res\", res)\n",
    "        # print(points[res])\n",
    "        if gt[0] in points[res]:\n",
    "            results.setdefault(\"correct\", []).append(1)\n",
    "            print(\"correct\")\n",
    "        else:\n",
    "            results.setdefault(\"correct\", []).append(0)\n",
    "            print(\"incorrect\")\n",
    "\n",
    "        results.setdefault(\"k\", []).append(k)\n",
    "        results.setdefault(\"n\", []).append(n)\n",
    "        results.setdefault(\"dim\", []).append(dim)\n",
    "\n",
    "np.mean(results[\"our_time_1\"]), np.mean(results[\"our_time_2\"]), np.mean(\n",
    "    results[\"exhaustive_time\"]\n",
    "), np.mean(results[\"correct\"])"
   ]
  }
 ],
 "metadata": {
  "kernelspec": {
   "display_name": "venv",
   "language": "python",
   "name": "python3"
  },
  "language_info": {
   "codemirror_mode": {
    "name": "ipython",
    "version": 3
   },
   "file_extension": ".py",
   "mimetype": "text/x-python",
   "name": "python",
   "nbconvert_exporter": "python",
   "pygments_lexer": "ipython3",
   "version": "3.12.7"
  }
 },
 "nbformat": 4,
 "nbformat_minor": 5
}
